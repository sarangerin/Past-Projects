{
 "cells": [
  {
   "cell_type": "markdown",
   "id": "0c09c964-b68a-46ec-8dc2-c5fcd54b2341",
   "metadata": {},
   "source": [
    "## Indepth - session identification _ 20220816 "
   ]
  },
  {
   "cell_type": "code",
   "execution_count": 1,
   "id": "0d5f57bf-4f15-45f0-b393-2526477fa55e",
   "metadata": {},
   "outputs": [
    {
     "name": "stdout",
     "output_type": "stream",
     "text": [
      "Requirement already satisfied: pandas in /opt/conda/lib/python3.9/site-packages (1.4.3)\n",
      "Requirement already satisfied: python-dateutil>=2.8.1 in /opt/conda/lib/python3.9/site-packages (from pandas) (2.8.2)\n",
      "Requirement already satisfied: numpy>=1.18.5 in /opt/conda/lib/python3.9/site-packages (from pandas) (1.23.2)\n",
      "Requirement already satisfied: pytz>=2020.1 in /opt/conda/lib/python3.9/site-packages (from pandas) (2022.1)\n",
      "Requirement already satisfied: six>=1.5 in /opt/conda/lib/python3.9/site-packages (from python-dateutil>=2.8.1->pandas) (1.16.0)\n",
      "Note: you may need to restart the kernel to use updated packages.\n"
     ]
    }
   ],
   "source": [
    "pip install pandas"
   ]
  },
  {
   "cell_type": "code",
   "execution_count": 5,
   "id": "45139b61-e19e-4f33-9a6a-cf4fee27cd02",
   "metadata": {},
   "outputs": [
    {
     "name": "stdout",
     "output_type": "stream",
     "text": [
      "Collecting mysql-connector-python\n",
      "  Downloading mysql_connector_python-8.0.30-cp39-cp39-manylinux1_x86_64.whl (25.4 MB)\n",
      "\u001b[2K     \u001b[90m━━━━━━━━━━━━━━━━━━━━━━━━━━━━━━━━━━━━━━━━\u001b[0m \u001b[32m25.4/25.4 MB\u001b[0m \u001b[31m56.7 MB/s\u001b[0m eta \u001b[36m0:00:00\u001b[0m00:01\u001b[0m00:01\u001b[0m\n",
      "\u001b[?25hCollecting protobuf<=3.20.1,>=3.11.0\n",
      "  Downloading protobuf-3.20.1-cp39-cp39-manylinux_2_5_x86_64.manylinux1_x86_64.whl (1.0 MB)\n",
      "\u001b[2K     \u001b[90m━━━━━━━━━━━━━━━━━━━━━━━━━━━━━━━━━━━━━━━━\u001b[0m \u001b[32m1.0/1.0 MB\u001b[0m \u001b[31m70.7 MB/s\u001b[0m eta \u001b[36m0:00:00\u001b[0m\n",
      "\u001b[?25hInstalling collected packages: protobuf, mysql-connector-python\n",
      "Successfully installed mysql-connector-python-8.0.30 protobuf-3.20.1\n",
      "Note: you may need to restart the kernel to use updated packages.\n"
     ]
    }
   ],
   "source": [
    "pip install mysql-connector-python"
   ]
  },
  {
   "cell_type": "code",
   "execution_count": 7,
   "id": "279b1272-2379-4eac-a985-31738f117177",
   "metadata": {},
   "outputs": [
    {
     "name": "stdout",
     "output_type": "stream",
     "text": [
      "Requirement already satisfied: numpy in /opt/conda/lib/python3.9/site-packages (1.23.2)\n",
      "Note: you may need to restart the kernel to use updated packages.\n"
     ]
    }
   ],
   "source": [
    "pip install numpy"
   ]
  },
  {
   "cell_type": "code",
   "execution_count": 1,
   "id": "1324b0bc-a0a6-4180-9ba5-0baa2e9c8c76",
   "metadata": {},
   "outputs": [],
   "source": [
    "import pandas as pd\n",
    "import numpy as np\n",
    "import mysql.connector"
   ]
  },
  {
   "cell_type": "code",
   "execution_count": 2,
   "id": "2f0f7226-10e2-4391-8639-bb83e7b0e39b",
   "metadata": {},
   "outputs": [],
   "source": [
    "# DB and USER info\n",
    "host = 'mulberry.clyifdbxlmx3.ap-northeast-2.rds.amazonaws.com'\n",
    "database='mulberry'\n",
    "user = 'erin.lee'\n",
    "password = 'erin.lee'"
   ]
  },
  {
   "cell_type": "code",
   "execution_count": 3,
   "id": "86a51867-acde-4a5e-9032-5b03f3a6384d",
   "metadata": {},
   "outputs": [
    {
     "name": "stdout",
     "output_type": "stream",
     "text": [
      "Is connection successful for \"erin.lee\"? True\n"
     ]
    }
   ],
   "source": [
    "mydb = mysql.connector.connect(\n",
    "    host = host,\n",
    "    port = \"3306\",\n",
    "    database = database,\n",
    "    user = user,\n",
    "    password = password\n",
    ")\n",
    "\n",
    "print(f'Is connection successful for \"{user}\"? {mydb.is_connected()}')"
   ]
  },
  {
   "cell_type": "code",
   "execution_count": 4,
   "id": "76f1c5d4-b829-46b5-a632-29cf15df4e15",
   "metadata": {},
   "outputs": [],
   "source": [
    "mycursor = mydb.cursor()"
   ]
  },
  {
   "cell_type": "markdown",
   "id": "574060b3-f99c-410f-8c5b-f2a8f6c4ef63",
   "metadata": {},
   "source": [
    "### Utility Functions"
   ]
  },
  {
   "cell_type": "code",
   "execution_count": 5,
   "id": "5eaef01f-b62c-4249-804c-e4a89ed74e9f",
   "metadata": {},
   "outputs": [],
   "source": [
    "def drop_table_if_exist(table_name, schema):\n",
    "    global mycursor\n",
    "    query_drop = f'DROP TABLE IF EXISTS {schema}.{table_name};'\n",
    "    mycursor.execute(query_drop)\n",
    "\n",
    "    \n",
    "def create_table(df_table, table_name, schema):\n",
    "    global mycursor\n",
    "   \n",
    "    columns = df_table.columns\n",
    "    query_create = (\n",
    "        f\"CREATE TABLE {schema}.{table_name} ( \"\n",
    "        f\"{', '.join(map(lambda x: f'{x} TEXT', columns))} ) \" \n",
    "        \"DEFAULT CHARSET utf8mb4 COLLATE utf8mb4_unicode_ci; \")\n",
    "    # query_create = (\n",
    "    #     f\"CREATE TABLE {schema}.{table_name} \"\n",
    "    #     f\"({', '.join(map(lambda x: f'{x} TEXT', columns))}) \" \n",
    "    #     \"DEFAULT CHARSET utf8mb4 COLLATE utf8mb4_unicode_ci; \")\n",
    "    mycursor.execute(query_create)\n",
    "        \n",
    "    \n",
    "def insert_table(df_table, table_name, schema):\n",
    "    global mydb\n",
    "    global mycursor\n",
    "    \n",
    "    columns = df_table.columns\n",
    "    form = f\"INSERT INTO {schema}.{table_name} ({', '.join(columns)}) VALUES ({', '.join(['%s']*len(columns))})\"\n",
    "    \n",
    "    df_temp = df_table.where(pd.notnull(df_table), '')\n",
    "    data = list(df_temp.itertuples(index=False, name=None))\n",
    "    \n",
    "    mycursor.executemany(form, data)\n",
    "    mydb.commit()"
   ]
  },
  {
   "cell_type": "code",
   "execution_count": 13,
   "id": "0062d3a4-8184-487e-8554-110d508cfb13",
   "metadata": {},
   "outputs": [
    {
     "ename": "NameError",
     "evalue": "name 'df' is not defined",
     "output_type": "error",
     "traceback": [
      "\u001b[0;31m---------------------------------------------------------------------------\u001b[0m",
      "\u001b[0;31mNameError\u001b[0m                                 Traceback (most recent call last)",
      "Input \u001b[0;32mIn [13]\u001b[0m, in \u001b[0;36m<cell line: 2>\u001b[0;34m()\u001b[0m\n\u001b[1;32m      1\u001b[0m drop_table_if_exist(table_name\u001b[38;5;241m=\u001b[39m\u001b[38;5;124m'\u001b[39m\u001b[38;5;124mgroup1_session_work_2_202205\u001b[39m\u001b[38;5;124m'\u001b[39m, schema \u001b[38;5;241m=\u001b[39m \u001b[38;5;124m'\u001b[39m\u001b[38;5;124mmulberry\u001b[39m\u001b[38;5;124m'\u001b[39m)\n\u001b[0;32m----> 2\u001b[0m create_table(\u001b[43mdf\u001b[49m, table_name\u001b[38;5;241m=\u001b[39m\u001b[38;5;124m'\u001b[39m\u001b[38;5;124mgroup1_session_work_2_202205\u001b[39m\u001b[38;5;124m'\u001b[39m, schema \u001b[38;5;241m=\u001b[39m \u001b[38;5;124m'\u001b[39m\u001b[38;5;124mmulberry\u001b[39m\u001b[38;5;124m'\u001b[39m)\n\u001b[1;32m      3\u001b[0m insert_table(df, \u001b[38;5;124m'\u001b[39m\u001b[38;5;124mgroup1_session_work_2_202205\u001b[39m\u001b[38;5;124m'\u001b[39m, schema \u001b[38;5;241m=\u001b[39m \u001b[38;5;124m'\u001b[39m\u001b[38;5;124mmulberry\u001b[39m\u001b[38;5;124m'\u001b[39m)\n",
      "\u001b[0;31mNameError\u001b[0m: name 'df' is not defined"
     ]
    }
   ],
   "source": [
    "drop_table_if_exist(table_name='group1_session_work_2_202205', schema = 'mulberry')\n",
    "create_table(df, table_name='group1_session_work_2_202205', schema = 'mulberry')\n",
    "insert_table(df, 'group1_session_work_2_202205', schema = 'mulberry')"
   ]
  },
  {
   "cell_type": "markdown",
   "id": "465ef072-fb80-4baf-b746-441907961432",
   "metadata": {
    "jp-MarkdownHeadingCollapsed": true,
    "tags": []
   },
   "source": [
    "#### Merge rows that are same ip_device_id, identical http_referrer and lead duration less than 1 second"
   ]
  },
  {
   "cell_type": "code",
   "execution_count": null,
   "id": "313c1924-469c-4cb4-bc69-b89dfb1c0a43",
   "metadata": {},
   "outputs": [],
   "source": [
    "q = f'Select * from group1_work_202205 Order by ip_device_id, hhmmss;'\n",
    "mycursor.execute(q)\n",
    "myresult = mycursor.fetchall()"
   ]
  },
  {
   "cell_type": "code",
   "execution_count": null,
   "id": "6c8baf7f-8dc7-42f4-81a8-6631e87a0d2f",
   "metadata": {},
   "outputs": [],
   "source": [
    "df = pd.DataFrame(myresult, columns = ['device', 'remote_addr', 'ip_device_id',\n",
    "                                       'http_referrer', 'hhmmss', 'lead_hhmmss', 'lag_hhmmss',\n",
    "                                      'lead_duration', 'lag_duration'])"
   ]
  },
  {
   "cell_type": "code",
   "execution_count": null,
   "id": "efe2a863-927d-4976-bc83-09e92224ec3d",
   "metadata": {},
   "outputs": [],
   "source": [
    "df"
   ]
  },
  {
   "cell_type": "code",
   "execution_count": null,
   "id": "900884a3-a109-41d8-b0d6-770cf7bdf39d",
   "metadata": {},
   "outputs": [],
   "source": [
    "df['merge_page'] = np.nan"
   ]
  },
  {
   "cell_type": "code",
   "execution_count": null,
   "id": "775bb2dc-7d34-4215-9694-69955d1b9ec3",
   "metadata": {},
   "outputs": [],
   "source": [
    "create_table(df, table_name='group1_work_v2_202205', schema = 'mulberry')"
   ]
  },
  {
   "cell_type": "code",
   "execution_count": null,
   "id": "6989a2f6-2a9e-4d2e-bf0a-d3760a532e6c",
   "metadata": {},
   "outputs": [],
   "source": [
    "df.at[0, 'merge_page'] = 0"
   ]
  },
  {
   "cell_type": "code",
   "execution_count": null,
   "id": "c4a6d7b7-ecf0-43d5-b231-52452b836393",
   "metadata": {},
   "outputs": [],
   "source": [
    "for idx, row in df.iloc[1:].iterrows():\n",
    "    if df.at[idx, 'ip_device_id'] == df.at[idx-1, 'ip_device_id'] and df.at[idx, 'http_referrer'] == df.at[idx-1, 'http_referrer'] and df.at[idx, 'lead_duration'] <1000000:\n",
    "        df.at[idx, 'merge_page'] = df.at[idx-1, 'merge_page']\n",
    "    else:\n",
    "        df.at[idx, 'merge_page'] = df.at[idx-1, 'merge_page'] +1\n",
    "        \n",
    "        prior_page = df.at[idx-1, 'merge_page']\n",
    "        df_prior_page = df[df['merge_page'] == prior_page]\n",
    "        \n",
    "        insert_table(df_prior_page, 'group1_work_v2_202205', schema = 'mulberry')"
   ]
  },
  {
   "cell_type": "markdown",
   "id": "d4328e18-2734-46bf-a76f-9440e71b4e2b",
   "metadata": {
    "jupyter": {
     "source_hidden": true
    },
    "tags": []
   },
   "source": [
    "### create data frame from monthly group1_work table"
   ]
  },
  {
   "cell_type": "code",
   "execution_count": null,
   "id": "9e7c1f32-d241-45c3-9827-a3e9a8476adb",
   "metadata": {},
   "outputs": [],
   "source": [
    "## Import table from db and save as a datarame\n",
    "\n",
    "query = f'Select * from all_work_202201 Order by remote_addr, device, hhmmss;'\n",
    "mycursor.execute(query)\n",
    "myresult = mycursor.fetchall()"
   ]
  },
  {
   "cell_type": "code",
   "execution_count": null,
   "id": "c80cbfd8-06c4-43d9-abdd-d0d2e1ec648e",
   "metadata": {},
   "outputs": [],
   "source": [
    "df = pd.DataFrame(myresult, columns = ['device', 'remote_addr', 'ip_device_id',\n",
    "                                       'http_referrer', 'hhmmss', 'lag_hhmmss',\n",
    "                                      'lag_duration'])"
   ]
  },
  {
   "cell_type": "code",
   "execution_count": null,
   "id": "a32459f7-facb-44a4-9b53-01d69584ac03",
   "metadata": {},
   "outputs": [],
   "source": [
    "len(df)"
   ]
  },
  {
   "cell_type": "code",
   "execution_count": null,
   "id": "7d176bd2-e4de-4d88-8ee3-42cb7deb090a",
   "metadata": {},
   "outputs": [],
   "source": [
    "### Create an empty column \"session\""
   ]
  },
  {
   "cell_type": "code",
   "execution_count": null,
   "id": "0ed88689-6c6a-4adb-8319-c39691988de6",
   "metadata": {},
   "outputs": [],
   "source": [
    "df['session'] = np.nan"
   ]
  },
  {
   "cell_type": "code",
   "execution_count": null,
   "id": "b2e233f0-1599-4a98-829e-c4ceb242e282",
   "metadata": {},
   "outputs": [],
   "source": [
    "### Iterations for the Rest of the table, define row i's session = row (i-1)'s session if duration < 200, else row i's session =  row (i-1)'s session +=1"
   ]
  },
  {
   "cell_type": "code",
   "execution_count": null,
   "id": "2a8e3872-2b37-4979-8551-0996f908edef",
   "metadata": {},
   "outputs": [],
   "source": [
    "#### Set session = 0 for the first rows of each group."
   ]
  },
  {
   "cell_type": "code",
   "execution_count": null,
   "id": "fbad50ff-2702-49ae-a097-e39b3bae96ef",
   "metadata": {},
   "outputs": [],
   "source": [
    "drop_table_if_exist(table_name='all_session_202111', schema = 'mulberry')\n",
    "create_table(df, table_name='all_session_202111', schema = 'mulberry')"
   ]
  },
  {
   "cell_type": "code",
   "execution_count": null,
   "id": "237d22e0-3b43-4b54-bf2b-f3ad6f4b4198",
   "metadata": {},
   "outputs": [],
   "source": [
    "df.at[0, 'session'] = 0"
   ]
  },
  {
   "cell_type": "code",
   "execution_count": null,
   "id": "827fc0c8-a648-4852-91f4-f5537ac405a7",
   "metadata": {},
   "outputs": [],
   "source": [
    "# session identification by ip_device_id and lag_duration and save back to a table in db by session\n",
    "for idx, row in df.iloc[1:].iterrows():\n",
    "    if df.at[idx, 'ip_device_id'] == df.at[idx-1, 'ip_device_id'] and df.at[idx,'lag_duration']<200000000:\n",
    "        df.at[idx, 'session'] = df.at[idx-1, 'session']\n",
    "        \n",
    "    else:\n",
    "        df.at[idx, 'session'] = df.at[idx-1, 'session'] + 1\n",
    "\n",
    "        prior_session = df.at[idx-1, 'session']\n",
    "        df_prior_session = df[df['session'] == prior_session]\n",
    "\n",
    "        insert_table(df_prior_session, 'all_session_202111', schema = 'mulberry')\n",
    "            "
   ]
  },
  {
   "cell_type": "code",
   "execution_count": null,
   "id": "ab6d3386-a5be-43d3-af2e-7c48c98253e7",
   "metadata": {},
   "outputs": [],
   "source": [
    "### Within sessions, merge consecutive rows with identical http_referrer"
   ]
  },
  {
   "cell_type": "code",
   "execution_count": 37,
   "id": "2c93ff7f-5d5c-431b-a7ad-c996b1048c78",
   "metadata": {},
   "outputs": [],
   "source": [
    "query = f'Select * from group1_session_checkout_202204 Order by session, hhmmss;'\n",
    "mycursor.execute(query)\n",
    "myresult = mycursor.fetchall()"
   ]
  },
  {
   "cell_type": "code",
   "execution_count": 38,
   "id": "ff7ba2ab-393d-4999-8c65-da6fec6d595c",
   "metadata": {},
   "outputs": [],
   "source": [
    "df = pd.DataFrame(myresult, columns = ['device', 'remote_addr', 'ip_device_id',\n",
    "                                       'http_referrer', 'hhmmss', 'lag_hhmmss',\n",
    "                                       'lag_duration', 'session'])"
   ]
  },
  {
   "cell_type": "code",
   "execution_count": 39,
   "id": "987165d2-6ba1-4bad-90ef-e80e1e5c1ff0",
   "metadata": {},
   "outputs": [],
   "source": [
    "df['page'] = np.nan"
   ]
  },
  {
   "cell_type": "code",
   "execution_count": 40,
   "id": "fdbd27e7-8145-48c5-84c7-70ab1fca1e27",
   "metadata": {},
   "outputs": [],
   "source": [
    "create_table(df, table_name = 'group1_session_checkout_pg_202204', schema ='mulberry')"
   ]
  },
  {
   "cell_type": "code",
   "execution_count": 41,
   "id": "50a5a42c-ce25-46f3-a59d-f0e43b27a676",
   "metadata": {},
   "outputs": [],
   "source": [
    "#merge consecutive traffics with same http_referrer\n",
    "df.at[0, 'page'] = 0\n",
    "\n",
    "for idx, row in df.iloc[1:].iterrows():\n",
    "    \n",
    "    if df.at[idx, 'http_referrer'] == df.at[idx-1, 'http_referrer'] and df.at[idx, 'session'] == df.at[idx-1, 'session']:\n",
    "        df.at[idx, 'page'] = df.at[idx-1, 'page']\n",
    "        \n",
    "    else:\n",
    "        df.at[idx, 'page'] = df.at[idx-1, 'page']+1\n",
    "        \n",
    "        prior_page = df.at[idx-1, 'page']\n",
    "        df_prior_page =  df[df['page'] == prior_page]\n",
    "        \n",
    "        insert_table(df_prior_page, 'group1_session_checkout_pg_202204', schema = 'mulberry')"
   ]
  },
  {
   "cell_type": "code",
   "execution_count": 46,
   "id": "92830cef-87fa-4dc3-92f2-d88c8054c1ff",
   "metadata": {},
   "outputs": [],
   "source": [
    "query = f'Select device, remote_addr, ip_device_id, http_referrer, hhmmss, lag_hhmmss, lag_duration, session from group1_session_checkout_202205 Order by session, hhmmss;'\n",
    "mycursor.execute(query)\n",
    "myresult = mycursor.fetchall()"
   ]
  },
  {
   "cell_type": "code",
   "execution_count": 47,
   "id": "46a89c8c-db02-4560-96f8-ba13c91f5148",
   "metadata": {},
   "outputs": [],
   "source": [
    "df = pd.DataFrame(myresult, columns = ['device', 'remote_addr', 'ip_device_id',\n",
    "                                       'http_referrer', 'hhmmss', 'lag_hhmmss',\n",
    "                                       'lag_duration', 'session'])"
   ]
  },
  {
   "cell_type": "code",
   "execution_count": 48,
   "id": "5dc07a0b-d636-49c1-8202-e911cade74d9",
   "metadata": {},
   "outputs": [],
   "source": [
    "df['page'] = np.nan"
   ]
  },
  {
   "cell_type": "code",
   "execution_count": 49,
   "id": "536d41f6-b802-4623-9832-936309b0edaf",
   "metadata": {},
   "outputs": [],
   "source": [
    "create_table(df, table_name = 'group1_session_checkout_pg_202205', schema ='mulberry')"
   ]
  },
  {
   "cell_type": "code",
   "execution_count": 50,
   "id": "b639a8db-ea8d-4c3e-8dff-30aa79dfab0b",
   "metadata": {},
   "outputs": [],
   "source": [
    "df.at[0, 'page'] = 0\n",
    "\n",
    "for idx, row in df.iloc[1:].iterrows():\n",
    "    \n",
    "    if df.at[idx, 'http_referrer'] == df.at[idx-1, 'http_referrer'] and df.at[idx, 'session'] == df.at[idx-1, 'session']:\n",
    "        df.at[idx, 'page'] = df.at[idx-1, 'page']\n",
    "        \n",
    "    else:\n",
    "        df.at[idx, 'page'] = df.at[idx-1, 'page']+1\n",
    "        \n",
    "        prior_page = df.at[idx-1, 'page']\n",
    "        df_prior_page =  df[df['page'] == prior_page]\n",
    "        \n",
    "        insert_table(df_prior_page, 'group1_session_checkout_pg_202205', schema = 'mulberry')"
   ]
  },
  {
   "cell_type": "code",
   "execution_count": null,
   "id": "73f57969-49d5-4bd9-919d-dde3030cd73c",
   "metadata": {},
   "outputs": [],
   "source": []
  },
  {
   "cell_type": "code",
   "execution_count": null,
   "id": "049ce1c3-8685-411b-9ff3-56456a440443",
   "metadata": {},
   "outputs": [],
   "source": []
  },
  {
   "cell_type": "code",
   "execution_count": null,
   "id": "08e1935e-ca09-4911-84ae-386e11fa764e",
   "metadata": {},
   "outputs": [],
   "source": []
  },
  {
   "cell_type": "code",
   "execution_count": null,
   "id": "df99d164-769a-440e-9bb4-a8d2cf86c743",
   "metadata": {},
   "outputs": [],
   "source": []
  }
 ],
 "metadata": {
  "kernelspec": {
   "display_name": "Python 3 (ipykernel)",
   "language": "python",
   "name": "python3"
  },
  "language_info": {
   "codemirror_mode": {
    "name": "ipython",
    "version": 3
   },
   "file_extension": ".py",
   "mimetype": "text/x-python",
   "name": "python",
   "nbconvert_exporter": "python",
   "pygments_lexer": "ipython3",
   "version": "3.10.4"
  }
 },
 "nbformat": 4,
 "nbformat_minor": 5
}
